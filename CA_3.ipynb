{
 "cells": [
  {
   "cell_type": "markdown",
   "metadata": {},
   "source": [
    "# Training a deep neural network\n",
    "\n",
    "In this task we consider the following problem as our optimization problem:\n",
    "\n",
    "\\begin{equation*}\n",
    "\\underset{W_1,W_2,w_3}{\\text{minimize}} \\; \\frac{1}{N} \\sum_{i\\in [N]} ||w_3s(W_2s(W_1x_i)-y_i)||_2^2\n",
    "\\end{equation*}\n",
    "\n",
    "where s is sigmoid function with the formula s = 1/(1+exp(-x)). We also can add the our choice of regulizer. As we can see from the above formula, we can implement our potimization problem with a neural network with two hidden layers and one output layer. All the activation functions of our neural network will be sigmoid function. Since the size of $W_3$ and $W_2$ and $W_1$ is not specified we can set it by our choice. We can also add $L_2$ normalizer to our neural network. \n",
    "\n",
    "In the first part of our code we will implement our neural network with different otimizers (GD, SGD, SVRG, SAG). We will use Keras library and python. \n",
    "\n",
    "## 1. Data preparation\n",
    "\n",
    "The data sets are same as CA1 and CA2. Before starting to work with the data sets we will discuss that how we use the data sets. As we do not have any condition on the way we use these data sets, we can choose only some prefered feture set of the data sets. We prepare our data sets following the bellow steps.\n",
    "\n",
    "- The firs two feilds of \"Individual household electric power consumption\" data set are timestamp and date. We can simply eliminate these fields since the goal of this assignment is not finding a very accurate model for this data set (The goal is comparing different solvers using neural network for same data sets). The other professional way of using these columns is to convert these columns to integer values of time and using them.\n",
    "\n",
    "- Both data sets have missing values. There are different ways of handling missing values. In this assignment similar to CA2 we just replace these missing values with zeros. \n",
    "\n",
    "- In this assignment since we use neural network with sigmoid as our activation function, we will use normalization preprocessing of data to prevent our network from satiate (sigmoid function is usually sensitive to range of our input space and it will saturate very fast with respect to range of input values and in these case our otimozer will become very slow, so we can set the mean value of our input to 0 and standard deviation to 1). For preprocessing, Scikit library has different functions.  The two functions that we can use is preprocessing.scale and preprocessing.normalize which do same action on data with different ways (normalizing along one axis or whole axis of data). We will use preprocessing.scale which normalize the input space over all axis of input data."
   ]
  },
  {
   "cell_type": "code",
   "execution_count": 102,
   "metadata": {
    "collapsed": true
   },
   "outputs": [],
   "source": [
    "import pandas as pd\n",
    "import numpy as np\n",
    "import time\n",
    "import math\n",
    "from sklearn.model_selection import train_test_split\n",
    "import random"
   ]
  },
  {
   "cell_type": "code",
   "execution_count": 2,
   "metadata": {},
   "outputs": [
    {
     "name": "stderr",
     "output_type": "stream",
     "text": [
      "/Users/shahab/anaconda3/lib/python3.6/site-packages/IPython/core/interactiveshell.py:2698: DtypeWarning: Columns (2,3,4,5,6,7) have mixed types. Specify dtype option on import or set low_memory=False.\n",
      "  interactivity=interactivity, compiler=compiler, result=result)\n"
     ]
    },
    {
     "name": "stdout",
     "output_type": "stream",
     "text": [
      "The size of data set is: (2075259, 9)\n",
      "The first three rows of data set:\n",
      "          Date      Time Global_active_power Global_reactive_power  Voltage  \\\n",
      "0  16/12/2006  17:24:00               4.216                 0.418  234.840   \n",
      "1  16/12/2006  17:25:00               5.360                 0.436  233.630   \n",
      "\n",
      "  Global_intensity Sub_metering_1 Sub_metering_2  Sub_metering_3  \n",
      "0           18.400          0.000          1.000            17.0  \n",
      "1           23.000          0.000          1.000            16.0  \n",
      "The last three rows of data set:\n",
      "                Date      Time Global_active_power Global_reactive_power  \\\n",
      "2075257  26/11/2010  21:01:00               0.934                     0   \n",
      "2075258  26/11/2010  21:02:00               0.932                     0   \n",
      "\n",
      "        Voltage Global_intensity Sub_metering_1 Sub_metering_2  Sub_metering_3  \n",
      "2075257   239.7              3.8              0              0             0.0  \n",
      "2075258  239.55              3.8              0              0             0.0  \n"
     ]
    }
   ],
   "source": [
    "data = pd.read_csv(\"household_power_consumption.txt\",\";\")\n",
    "\n",
    "print(\"The size of data set is:\",data.shape)\n",
    "print(\"The first three rows of data set:\\n\",data.head(2))\n",
    "print(\"The last three rows of data set:\\n\",data.tail(2))\n",
    "\n",
    "X_ = pd.DataFrame(data.iloc[:,2:6], columns=[\"Global_active_power\",\"Global_reactive_power\",\"Voltage\",\"Global_intensity\"])\n",
    "Y_ = pd.DataFrame(data.iloc[:,7], columns=[\"Sub_metering_2\"])\n",
    "\n",
    "X_ = X_.replace({'?':0})\n",
    "Y_ = Y_.replace({'?':0})"
   ]
  },
  {
   "cell_type": "markdown",
   "metadata": {},
   "source": [
    "### 1.1 train and test sets\n",
    "\n",
    "Befor starting the training we need to split our data to train and test. In traditional learning algorithms, people usually use 70%/30% train/test or 60%/20%/20% train/dev/test set. Nowadays, because of having large data sets, people usually use 98%/1%/1% train/dev/test set. In this assignment we used the traditional way of spliting data into train and test with the ratio of 70%/30% of train/test."
   ]
  },
  {
   "cell_type": "code",
   "execution_count": 3,
   "metadata": {},
   "outputs": [
    {
     "name": "stdout",
     "output_type": "stream",
     "text": [
      "Size of train set (X):  (2520, 4)\n",
      "Size of train set (Y):  (2520, 1)\n",
      "Size of test set (X):  (1080, 4)\n",
      "Size of test set (Y):  (1080, 1)\n"
     ]
    }
   ],
   "source": [
    "X_features = X_.columns\n",
    "Y_features = Y_.columns\n",
    "number_of_samples = 3600\n",
    "XY = pd.concat([X_[X_features], Y_[Y_features]], axis=1).iloc[0:number_of_samples,:]\n",
    "\n",
    "# Split XY into training set and test set of equal size\n",
    "train, test = train_test_split(XY, test_size = 0.30)\n",
    "# Sort the train and test sets after index (which became unsorted through sampling)\n",
    "train = train.sort_index(axis=0)\n",
    "test = test.sort_index(axis=0)\n",
    "\n",
    "# Extract X,Y components from test and train sets\n",
    "X_train = train[X_features].astype(float); X_test = test[X_features].astype(float)\n",
    "Y_train = train[Y_features].astype(float); Y_test = test[Y_features].astype(float)\n",
    "\n",
    "print(\"Size of train set (X): \",X_train.shape)\n",
    "print(\"Size of train set (Y): \",Y_train.shape)\n",
    "print(\"Size of test set (X): \",X_test.shape)\n",
    "print(\"Size of test set (Y): \",Y_test.shape)"
   ]
  },
  {
   "cell_type": "markdown",
   "metadata": {},
   "source": [
    "## 2. Defining metrics for comparing the models and methods\n",
    "\n",
    "In this part we will introduce our metric that it gives us the possiblity of comparing the methods and the accuracy of our models when we predict our target variable for test set. We will use Normalized Mean Absolute Error.\n",
    "\n",
    "We use following formula to compute this error:\n",
    "\n",
    "\\begin{equation*}\n",
    "\\frac{1}{\\bar{y}}(\\frac{1}{m}\\sum\\limits_{i=1}^m|y_i-\\hat{y_i}|)\n",
    "\\end{equation*}"
   ]
  },
  {
   "cell_type": "code",
   "execution_count": 4,
   "metadata": {
    "collapsed": true
   },
   "outputs": [],
   "source": [
    "def nmae(y,yhat):\n",
    "    y = np.array(y).reshape(y.shape[0],1)\n",
    "    yhat = np.array(yhat).reshape(yhat.shape[0],1)\n",
    "    result = np.sum(np.abs(y-yhat))/(y.shape[0]*np.mean(y))\n",
    "    return result"
   ]
  },
  {
   "cell_type": "code",
   "execution_count": 5,
   "metadata": {},
   "outputs": [
    {
     "name": "stdout",
     "output_type": "stream",
     "text": [
      "0.2\n"
     ]
    }
   ],
   "source": [
    "y = np.array([1,2,3,4])\n",
    "yhat = np.array([2,1,3,4])\n",
    "print(nmae(y,yhat))"
   ]
  },
  {
   "cell_type": "markdown",
   "metadata": {},
   "source": [
    "## 2. Defining a Naive and baseline models\n",
    "\n",
    "In this section we will specify two other models which will be our baseline and naive estimators (just to know and understand and have feeling about the prediction and modeling environment). Our Naive estimator can be the mean value of our target variable. We can use random forest model as our base line model. We can compare the results of our neural network with the results of these two models to assess the accuracy of our model (although the goal of this assignment is not to find a good estimator, we can just be sure that we are not wasting time with wrong model). However, when we are using neural networks we can not necceraly be shure that in our first attempt we will have a good model as our baseline or even our naive method. We usually need to tune different hyper-parameters in our neural network. Such as the architecture which is simply the size of our matrices in this assignment."
   ]
  },
  {
   "cell_type": "code",
   "execution_count": 6,
   "metadata": {
    "collapsed": true
   },
   "outputs": [],
   "source": [
    "def naive(y):\n",
    "    return np.mean(y)"
   ]
  },
  {
   "cell_type": "code",
   "execution_count": 7,
   "metadata": {},
   "outputs": [
    {
     "name": "stdout",
     "output_type": "stream",
     "text": [
      "Sub_metering_2    2.099206\n",
      "dtype: float64\n"
     ]
    }
   ],
   "source": [
    "naive_estimator = naive(Y_train)\n",
    "print(naive_estimator)"
   ]
  },
  {
   "cell_type": "code",
   "execution_count": 8,
   "metadata": {},
   "outputs": [
    {
     "name": "stderr",
     "output_type": "stream",
     "text": [
      "/Users/shahab/anaconda3/lib/python3.6/site-packages/ipykernel_launcher.py:4: DataConversionWarning: A column-vector y was passed when a 1d array was expected. Please change the shape of y to (n_samples,), for example using ravel().\n",
      "  after removing the cwd from sys.path.\n"
     ]
    }
   ],
   "source": [
    "from sklearn.ensemble import RandomForestRegressor\n",
    "\n",
    "regressor = RandomForestRegressor(n_estimators=120, n_jobs=-1)\n",
    "regressor.fit(X_train, Y_train)\n",
    "test_pred = regressor.predict(X_test)\n",
    "train_pred = regressor.predict(X_train)"
   ]
  },
  {
   "cell_type": "code",
   "execution_count": 9,
   "metadata": {},
   "outputs": [
    {
     "name": "stdout",
     "output_type": "stream",
     "text": [
      "The test NMAE is 0.93\n",
      "The train NMAE is 0.35\n",
      "The naive NMAE is 1.53\n"
     ]
    }
   ],
   "source": [
    "test_nmae = nmae(Y_test,test_pred)\n",
    "train_nmae = nmae(Y_train,train_pred)\n",
    "naive_values = np.full((Y_train.shape[0],1),naive_estimator)\n",
    "naive_nmae = nmae(Y_train,naive_values)\n",
    "print(\"The test NMAE is %.2f\" %test_nmae)\n",
    "print(\"The train NMAE is %.2f\" %train_nmae)\n",
    "print(\"The naive NMAE is %.2f\" %naive_nmae)"
   ]
  },
  {
   "cell_type": "code",
   "execution_count": 10,
   "metadata": {},
   "outputs": [
    {
     "data": {
      "image/png": "[encoded data removed]",
      "text/plain": [
       "<matplotlib.figure.Figure at 0x1a12cd4710>"
      ]
     },
     "metadata": {},
     "output_type": "display_data"
    }
   ],
   "source": [
    "import matplotlib.pyplot as plt\n",
    "N_size = min(X_test.shape[0],number_of_samples)\n",
    "baseline_value = Y_train.mean()\n",
    "baseline_array = np.zeros(N_size)\n",
    "for i in range(0,N_size):\n",
    "    baseline_array[i] = baseline_value\n",
    "fig, axes = plt.subplots(nrows=1, ncols=1, figsize=(10, 4))\n",
    "line = plt.plot(np.linspace(0, N_size-1, N_size),Y_test[0:N_size], color='y')\n",
    "baseline = plt.plot(np.linspace(0, N_size-1, N_size),baseline_array[0:N_size], color='g')\n",
    "predict_line = plt.plot(np.linspace(0, N_size-1, N_size),test_pred[0:N_size], color='red')\n",
    "\n",
    "font_size = 14\n",
    "plt.xlabel('Sample index', fontsize=font_size)\n",
    "plt.ylabel('Power Consumption', fontsize=font_size)\n",
    "plt.legend(('Measured', 'Estimated values','Naive estimatore'), loc = 'upper right', shadow=False, fancybox=True, fontsize=font_size)\n",
    "plt.tick_params(axis='both', which='major', labelsize=font_size)\n",
    "plt.tick_params(axis='both', which='minor', labelsize=font_size)\n",
    "plt.rcParams['savefig.dpi'] = 200\n",
    "plt.tight_layout()\n",
    "plt.show()"
   ]
  },
  {
   "cell_type": "markdown",
   "metadata": {},
   "source": [
    "## 3. Neural Network with different optimizers\n",
    "\n",
    "Now we are ready to implement our model with different optimizers. In the first part we will just do the first try to achive the acceptable results incomparision to our baseline and naive model. In the second part we will discuss about the different parameters.\n",
    "\n",
    "\n",
    "### 3.1 In the first step we will start with a very simple neural network with GD optimizer."
   ]
  },
  {
   "cell_type": "code",
   "execution_count": 11,
   "metadata": {
    "collapsed": true
   },
   "outputs": [],
   "source": [
    "# feature standarization: mean=0, variance=1\n",
    "from sklearn import preprocessing\n",
    "X_train = preprocessing.scale(X_train)\n",
    "X_test = preprocessing.scale(X_test)"
   ]
  },
  {
   "cell_type": "code",
   "execution_count": 12,
   "metadata": {},
   "outputs": [
    {
     "name": "stdout",
     "output_type": "stream",
     "text": [
      "(2520, 4)\n"
     ]
    }
   ],
   "source": [
    "print(X_train.shape)"
   ]
  },
  {
   "cell_type": "code",
   "execution_count": 210,
   "metadata": {
    "collapsed": true
   },
   "outputs": [],
   "source": [
    "# GRADED FUNCTION: initialize_parameters_deep\n",
    "\n",
    "epsilon = 1e-9\n",
    "def initialize_parameters_deep(layer_dims):\n",
    "    \"\"\"\n",
    "    Arguments:\n",
    "    layer_dims -- python array (list) containing the dimensions of each layer in our network\n",
    "    \n",
    "    Returns:\n",
    "    parameters -- python dictionary containing your parameters \"W1\", \"b1\", ..., \"WL\", \"bL\":\n",
    "                    Wl -- weight matrix of shape (layer_dims[l], layer_dims[l-1])\n",
    "                    bl -- bias vector of shape (layer_dims[l], 1)\n",
    "    \"\"\"\n",
    "    \n",
    "    np.random.seed(3)\n",
    "    parameters = {}\n",
    "    L = len(layer_dims)            # number of layers in the network\n",
    "\n",
    "    for l in range(1, L):\n",
    "        parameters['W' + str(l)] = np.random.randn(layer_dims[l], layer_dims[l-1]) * epsilon\n",
    "        parameters['b' + str(l)] = np.zeros((layer_dims[l], 1))\n",
    "        \n",
    "        assert(parameters['W' + str(l)].shape == (layer_dims[l], layer_dims[l-1]))\n",
    "        assert(parameters['b' + str(l)].shape == (layer_dims[l], 1))\n",
    "\n",
    "        \n",
    "    return parameters"
   ]
  },
  {
   "cell_type": "code",
   "execution_count": 211,
   "metadata": {},
   "outputs": [
    {
     "name": "stdout",
     "output_type": "stream",
     "text": [
      "W1 = [[  1.78862847e-09   4.36509851e-10   9.64974681e-11  -1.86349270e-09\n",
      "   -2.77388203e-10]\n",
      " [ -3.54758979e-10  -8.27414815e-11  -6.27000677e-10  -4.38181690e-11\n",
      "   -4.77218030e-10]\n",
      " [ -1.31386475e-09   8.84622380e-10   8.81318042e-10   1.70957306e-09\n",
      "    5.00336422e-11]\n",
      " [ -4.04677415e-10  -5.45359948e-10  -1.54647732e-09   9.82367434e-10\n",
      "   -1.10106763e-09]]\n",
      "b1 = [[ 0.]\n",
      " [ 0.]\n",
      " [ 0.]\n",
      " [ 0.]]\n",
      "W2 = [[ -1.18504653e-09  -2.05649899e-10   1.48614836e-09   2.36716267e-10]\n",
      " [ -1.02378514e-09  -7.12993200e-10   6.25244966e-10  -1.60513363e-10]\n",
      " [ -7.68836350e-10  -2.30030722e-10   7.45056266e-10   1.97611078e-09]]\n",
      "b2 = [[ 0.]\n",
      " [ 0.]\n",
      " [ 0.]]\n"
     ]
    }
   ],
   "source": [
    "parameters = initialize_parameters_deep([5,4,3])\n",
    "print(\"W1 = \" + str(parameters[\"W1\"]))\n",
    "print(\"b1 = \" + str(parameters[\"b1\"]))\n",
    "print(\"W2 = \" + str(parameters[\"W2\"]))\n",
    "print(\"b2 = \" + str(parameters[\"b2\"]))"
   ]
  },
  {
   "cell_type": "code",
   "execution_count": 212,
   "metadata": {
    "collapsed": true
   },
   "outputs": [],
   "source": [
    "# GRADED FUNCTION: linear_forward\n",
    "\n",
    "def linear_forward(A, W, b):\n",
    "    \"\"\"\n",
    "    Implement the linear part of a layer's forward propagation.\n",
    "\n",
    "    Arguments:\n",
    "    A -- activations from previous layer (or input data): (size of previous layer, number of examples)\n",
    "    W -- weights matrix: numpy array of shape (size of current layer, size of previous layer)\n",
    "    b -- bias vector, numpy array of shape (size of the current layer, 1)\n",
    "\n",
    "    Returns:\n",
    "    Z -- the input of the activation function, also called pre-activation parameter \n",
    "    cache -- a python dictionary containing \"A\", \"W\" and \"b\" ; stored for computing the backward pass efficiently\n",
    "    \"\"\"\n",
    "    \n",
    "    Z = np.dot(W,A)+b\n",
    "    \n",
    "    assert(Z.shape == (W.shape[0], A.shape[1]))\n",
    "    cache = (A, W, b)\n",
    "    \n",
    "    return Z, cache"
   ]
  },
  {
   "cell_type": "code",
   "execution_count": 213,
   "metadata": {
    "collapsed": true
   },
   "outputs": [],
   "source": [
    "def relu(x):\n",
    "    activation_cache = {\"Z\": x}\n",
    "    A = x * (x > 0)\n",
    "    return A,activation_cache\n",
    "\n",
    "def drelu(x):\n",
    "    return 1. * (x > 0)"
   ]
  },
  {
   "cell_type": "code",
   "execution_count": 214,
   "metadata": {
    "collapsed": true
   },
   "outputs": [],
   "source": [
    "def lrelu(x):\n",
    "    activation_cache = {\"Z\": x}\n",
    "    A = x\n",
    "    A[x < 0] = 0.01 * A[x < 0]\n",
    "    return A\n",
    "\n",
    "def dlrelu(x):\n",
    "    dx = np.ones_like(x,np.float64)\n",
    "    dx[x < 0] = 0.01\n",
    "    return dx"
   ]
  },
  {
   "cell_type": "code",
   "execution_count": 215,
   "metadata": {
    "collapsed": true
   },
   "outputs": [],
   "source": [
    "# GRADED FUNCTION: sigmoid\n",
    "\n",
    "def sigmoid(z):\n",
    "    \"\"\"\n",
    "    Compute the sigmoid of z\n",
    "\n",
    "    Arguments:\n",
    "    z -- A scalar or numpy array of any size.\n",
    "\n",
    "    Return:\n",
    "    s -- sigmoid(z)\n",
    "    \"\"\"\n",
    "\n",
    "    s = 1/(1+np.exp((-1)*z))\n",
    "    \n",
    "    activation_cache = {\"Z\": z}\n",
    "    \n",
    "    return s,activation_cache\n",
    "def dsigmoid(z):\n",
    "\n",
    "    s = z*(1-z)\n",
    "    \n",
    "    return s"
   ]
  },
  {
   "cell_type": "code",
   "execution_count": 216,
   "metadata": {
    "collapsed": true
   },
   "outputs": [],
   "source": [
    "# GRADED FUNCTION: sigmoid\n",
    "\n",
    "def tanh(z):\n",
    "    \"\"\"\n",
    "    Compute the sigmoid of z\n",
    "\n",
    "    Arguments:\n",
    "    z -- A scalar or numpy array of any size.\n",
    "\n",
    "    Return:\n",
    "    s -- sigmoid(z)\n",
    "    \"\"\"\n",
    "\n",
    "    s = (np.exp(z)+np.exp((-1)*z))/(np.exp(z)+np.exp((-1)*z))\n",
    "    \n",
    "    activation_cache = {\"Z\": z}\n",
    "    \n",
    "    return s,activation_cache\n",
    "def dtanh(z):\n",
    "\n",
    "    s = 1-(z*z)\n",
    "    \n",
    "    return s"
   ]
  },
  {
   "cell_type": "code",
   "execution_count": 217,
   "metadata": {
    "collapsed": true
   },
   "outputs": [],
   "source": [
    "def linear(z):\n",
    "    s=z\n",
    "    activation_cache = {\"Z\":z}\n",
    "    return s,activation_cache\n",
    "\n",
    "def dlinear(z):\n",
    "    return 1"
   ]
  },
  {
   "cell_type": "code",
   "execution_count": 218,
   "metadata": {
    "collapsed": true
   },
   "outputs": [],
   "source": [
    "def linear_activation_forward(A_prev, W, b, activation):\n",
    "    \"\"\"\n",
    "    Implement the forward propagation for the LINEAR->ACTIVATION layer\n",
    "\n",
    "    Arguments:\n",
    "    A_prev -- activations from previous layer (or input data): (size of previous layer, number of examples)\n",
    "    W -- weights matrix: numpy array of shape (size of current layer, size of previous layer)\n",
    "    b -- bias vector, numpy array of shape (size of the current layer, 1)\n",
    "    activation -- the activation to be used in this layer, stored as a text string: \"sigmoid\" or \"relu\"\n",
    "\n",
    "    Returns:\n",
    "    A -- the output of the activation function, also called the post-activation value \n",
    "    cache -- a python dictionary containing \"linear_cache\" and \"activation_cache\";\n",
    "             stored for computing the backward pass efficiently\n",
    "    \"\"\"\n",
    "    \n",
    "    if activation == \"sigmoid\":\n",
    "        # Inputs: \"A_prev, W, b\". Outputs: \"A, activation_cache\".\n",
    "        Z, linear_cache = linear_forward(A_prev, W, b)\n",
    "        A, activation_cache = sigmoid(Z)\n",
    "    \n",
    "    elif activation == \"relu\":\n",
    "        # Inputs: \"A_prev, W, b\". Outputs: \"A, activation_cache\".\n",
    "        Z, linear_cache = linear_forward(A_prev, W, b)\n",
    "        A, activation_cache = relu(Z)\n",
    "    elif activation == \"lrelu\":\n",
    "        # Inputs: \"A_prev, W, b\". Outputs: \"A, activation_cache\".\n",
    "        Z, linear_cache = linear_forward(A_prev, W, b)\n",
    "        A, activation_cache = lrelu(Z)\n",
    "    elif activation == \"linear\":\n",
    "        # Inputs: \"A_prev, W, b\". Outputs: \"A, activation_cache\".\n",
    "        Z, linear_cache = linear_forward(A_prev, W, b)\n",
    "        A, activation_cache = linear(Z)\n",
    "    elif activation == \"tanh\":\n",
    "        # Inputs: \"A_prev, W, b\". Outputs: \"A, activation_cache\".\n",
    "        Z, linear_cache = linear_forward(A_prev, W, b)\n",
    "        A, activation_cache = tanh(Z)\n",
    "    \n",
    "    assert (A.shape == (W.shape[0], A_prev.shape[1]))\n",
    "    cache = (linear_cache, activation_cache)\n",
    "\n",
    "    return A, cache"
   ]
  },
  {
   "cell_type": "code",
   "execution_count": 219,
   "metadata": {
    "collapsed": true
   },
   "outputs": [],
   "source": [
    "# GRADED FUNCTION: L_model_forward\n",
    "\n",
    "def L_model_forward(X, parameters):\n",
    "    \"\"\"\n",
    "    Implement forward propagation for the [LINEAR->RELU]*(L-1)->LINEAR->SIGMOID computation\n",
    "    \n",
    "    Arguments:\n",
    "    X -- data, numpy array of shape (input size, number of examples)\n",
    "    parameters -- output of initialize_parameters_deep()\n",
    "    \n",
    "    Returns:\n",
    "    AL -- last post-activation value\n",
    "    caches -- list of caches containing:\n",
    "                every cache of linear_relu_forward() (there are L-1 of them, indexed from 0 to L-2)\n",
    "                the cache of linear_sigmoid_forward() (there is one, indexed L-1)\n",
    "    \"\"\"\n",
    "\n",
    "    caches = []\n",
    "    A = X\n",
    "    L = len(parameters) // 2                  # number of layers in the neural network\n",
    "    \n",
    "    # Implement [LINEAR -> RELU]*(L-1). Add \"cache\" to the \"caches\" list.\n",
    "    for l in range(1, L):\n",
    "        A_prev = A \n",
    "        \n",
    "        A, cache = linear_activation_forward(A_prev, parameters['W' + str(l)], parameters['b' + str(l)], activation = \"relu\")\n",
    "        caches.append(cache)\n",
    "    \n",
    "    AL, cache = linear_activation_forward(A, parameters['W' + str(L)], parameters['b' + str(L)], activation = \"linear\")\n",
    "    caches.append(cache)\n",
    "    \n",
    "    \n",
    "    #print (\"AL.shape:\",AL.shape,\" X.shape[1]:\",X.shape[1])\n",
    "    \n",
    "    #***assert(AL.shape == (1,X.shape[1]))\n",
    "            \n",
    "    return AL, caches"
   ]
  },
  {
   "cell_type": "code",
   "execution_count": 220,
   "metadata": {
    "collapsed": true
   },
   "outputs": [],
   "source": [
    "# GRADED FUNCTION: compute_cost\n",
    "\n",
    "def compute_cost(A2, Y):\n",
    "    \"\"\"\n",
    "    Computes the cross-entropy cost given in equation (13)\n",
    "    \n",
    "    Arguments:\n",
    "    A2 -- The sigmoid output of the second activation, of shape (1, number of examples)\n",
    "    Y -- \"true\" labels vector of shape (1, number of examples)\n",
    "    parameters -- python dictionary containing your parameters W1, b1, W2 and b2\n",
    "    \n",
    "    Returns:\n",
    "    cost -- cross-entropy cost given equation (13)\n",
    "    \"\"\"\n",
    "    m = Y.shape[1] # number of example\n",
    "\n",
    "    # Compute the cross-entropy cost\n",
    "    diff = (A2-Y)**2\n",
    "    cost = np.sum(diff)/m\n",
    "    \n",
    "    cost = np.squeeze(cost)     # makes sure cost is the dimension we expect. \n",
    "                                # E.g., turns [[17]] into 17 \n",
    "    assert(isinstance(cost, float))\n",
    "    \n",
    "    return cost"
   ]
  },
  {
   "cell_type": "code",
   "execution_count": 221,
   "metadata": {},
   "outputs": [
    {
     "name": "stdout",
     "output_type": "stream",
     "text": [
      "0.333333333333\n"
     ]
    }
   ],
   "source": [
    "AL = np.array([1,2,3]).reshape(1,3)\n",
    "Y = np.array([1,2,2]).reshape(1,3)\n",
    "cost = compute_cost(AL,Y)\n",
    "print(cost)"
   ]
  },
  {
   "cell_type": "code",
   "execution_count": 222,
   "metadata": {
    "collapsed": true
   },
   "outputs": [],
   "source": [
    "def sigmoid_backward(dA, activation_cache):\n",
    "    dZ = dA*dsigmoid(activation_cache['Z'])\n",
    "    return dZ\n",
    "\n",
    "def relu_backward(dA, activation_cache):\n",
    "    dZ = dA*drelu(activation_cache['Z'])\n",
    "    return dZ\n",
    "\n",
    "def lrelu_backward(dA, activation_cache):\n",
    "    dZ = dA*dlrelu(activation_cache['Z'])\n",
    "    return dZ\n",
    "\n",
    "def line_backward(dA, activation_cache):\n",
    "    dZ = dA*dlinear(activation_cache['Z'])\n",
    "    return dZ\n",
    "\n",
    "def tanh_backward(dA, activation_cache):\n",
    "    dZ = dA*dtanh(activation_cache['Z'])\n",
    "    return dZ"
   ]
  },
  {
   "cell_type": "code",
   "execution_count": 223,
   "metadata": {
    "collapsed": true
   },
   "outputs": [],
   "source": [
    "# GRADED FUNCTION: linear_backward\n",
    "\n",
    "def linear_backward(dZ, cache):\n",
    "    \"\"\"\n",
    "    Implement the linear portion of backward propagation for a single layer (layer l)\n",
    "\n",
    "    Arguments:\n",
    "    dZ -- Gradient of the cost with respect to the linear output (of current layer l)\n",
    "    cache -- tuple of values (A_prev, W, b) coming from the forward propagation in the current layer\n",
    "\n",
    "    Returns:\n",
    "    dA_prev -- Gradient of the cost with respect to the activation (of the previous layer l-1), same shape as A_prev\n",
    "    dW -- Gradient of the cost with respect to W (current layer l), same shape as W\n",
    "    db -- Gradient of the cost with respect to b (current layer l), same shape as b\n",
    "    \"\"\"\n",
    "    A_prev, W, b = cache\n",
    "    m = A_prev.shape[1]\n",
    "\n",
    "    dW = np.dot(dZ,A_prev.T)/m\n",
    "    db = (np.sum(dZ,axis=1,keepdims=True)/m)\n",
    "    dA_prev = np.dot(W.T,dZ)\n",
    "    \n",
    "    assert (dA_prev.shape == A_prev.shape)\n",
    "    assert (dW.shape == W.shape)\n",
    "    assert (db.shape == b.shape)\n",
    "    \n",
    "    return dA_prev, dW, db"
   ]
  },
  {
   "cell_type": "code",
   "execution_count": 224,
   "metadata": {
    "collapsed": true
   },
   "outputs": [],
   "source": [
    "# GRADED FUNCTION: linear_activation_backward\n",
    "\n",
    "def linear_activation_backward(dA, cache, activation):\n",
    "    \"\"\"\n",
    "    Implement the backward propagation for the LINEAR->ACTIVATION layer.\n",
    "    \n",
    "    Arguments:\n",
    "    dA -- post-activation gradient for current layer l \n",
    "    cache -- tuple of values (linear_cache, activation_cache) we store for computing backward propagation efficiently\n",
    "    activation -- the activation to be used in this layer, stored as a text string: \"sigmoid\" or \"relu\"\n",
    "    \n",
    "    Returns:\n",
    "    dA_prev -- Gradient of the cost with respect to the activation (of the previous layer l-1), same shape as A_prev\n",
    "    dW -- Gradient of the cost with respect to W (current layer l), same shape as W\n",
    "    db -- Gradient of the cost with respect to b (current layer l), same shape as b\n",
    "    \"\"\"\n",
    "    linear_cache, activation_cache = cache\n",
    "    \n",
    "    if activation == \"relu\":\n",
    "        dZ = relu_backward(dA, activation_cache)\n",
    "        dA_prev, dW, db = linear_backward(dZ,linear_cache)\n",
    "    elif activation == \"lrelu\":\n",
    "        dZ = lrelu_backward(dA, activation_cache)\n",
    "        dA_prev, dW, db = linear_backward(dZ,linear_cache)\n",
    "        \n",
    "    elif activation == \"sigmoid\":\n",
    "        dZ = sigmoid_backward(dA, activation_cache)\n",
    "        #print (\"dZ.shape:\",dZ.shape)\n",
    "        dA_prev, dW, db = linear_backward(dZ,linear_cache)\n",
    "    elif activation == \"tanh\":\n",
    "        dZ = tanh_backward(dA, activation_cache)\n",
    "        #print (\"dZ.shape:\",dZ.shape)\n",
    "        dA_prev, dW, db = linear_backward(dZ,linear_cache)\n",
    "    \n",
    "    return dA_prev, dW, db"
   ]
  },
  {
   "cell_type": "code",
   "execution_count": 225,
   "metadata": {
    "collapsed": true
   },
   "outputs": [],
   "source": [
    "# GRADED FUNCTION: L_model_backward\n",
    "\n",
    "def L_model_backward(AL, Y, caches):\n",
    "    \"\"\"\n",
    "    Implement the backward propagation for the [LINEAR->RELU] * (L-1) -> LINEAR -> SIGMOID group\n",
    "    \n",
    "    Arguments:\n",
    "    AL -- probability vector, output of the forward propagation (L_model_forward())\n",
    "    Y -- true \"label\" vector (containing 0 if non-cat, 1 if cat)\n",
    "    caches -- list of caches containing:\n",
    "                every cache of linear_activation_forward() with \"relu\" (it's caches[l], for l in range(L-1) i.e l = 0...L-2)\n",
    "                the cache of linear_activation_forward() with \"sigmoid\" (it's caches[L-1])\n",
    "    \n",
    "    Returns:\n",
    "    grads -- A dictionary with the gradients\n",
    "             grads[\"dA\" + str(l)] = ... \n",
    "             grads[\"dW\" + str(l)] = ...\n",
    "             grads[\"db\" + str(l)] = ... \n",
    "    \"\"\"\n",
    "    grads = {}\n",
    "    L = len(caches) # the number of layers\n",
    "    m = AL.shape[1]\n",
    "    Y = Y.reshape(AL.shape) # after this line, Y is the same shape as AL\n",
    "    \n",
    "    # Initializing the backpropagation\n",
    "    dAL = 2*np.sum(AL-Y)/m\n",
    "    \n",
    "    current_cache = caches[L-1]\n",
    "    #grads[\"dA\" + str(L)], grads[\"dW\" + str(L)], grads[\"db\" + str(L)] = linear_activation_backward(dAL, current_cache, activation = \"linear\")\n",
    "\n",
    "    linear_cache, activation_cache = current_cache\n",
    "    A_prev, W, b = linear_cache\n",
    "    \n",
    "    grads[\"dA\" + str(L)] = dAL\n",
    "    grads[\"dW\" + str(L)] = 2 * np.dot((AL-Y),A_prev.T)/m\n",
    "    grads[\"db\" + str(L)] = dAL\n",
    "    \n",
    "    for l in reversed(range(L-1)):\n",
    "        # lth layer: (RELU -> LINEAR) gradients.\n",
    "        # Inputs: \"grads[\"dA\" + str(l + 2)], caches\". Outputs: \"grads[\"dA\" + str(l + 1)] , grads[\"dW\" + str(l + 1)] , grads[\"db\" + str(l + 1)] \n",
    "    \n",
    "        current_cache = caches[l]\n",
    "        #dA_prev_temp, dW_temp, db_temp = linear_activation_backward(grads[\"dA\" + str(l + 2)], current_cache, activation = \"lrelu\")\n",
    "        dA_prev_temp, dW_temp, db_temp = linear_activation_backward(grads[\"dA\" + str(l + 2)], current_cache, activation = \"sigmoid\")\n",
    "        grads[\"dA\" + str(l + 1)] = dA_prev_temp\n",
    "        grads[\"dW\" + str(l + 1)] = dW_temp\n",
    "        grads[\"db\" + str(l + 1)] = db_temp\n",
    "\n",
    "    return grads"
   ]
  },
  {
   "cell_type": "code",
   "execution_count": 226,
   "metadata": {
    "collapsed": true
   },
   "outputs": [],
   "source": [
    "# GRADED FUNCTION: update_parameters\n",
    "\n",
    "def update_parameters(parameters, grads, learning_rate):\n",
    "    \"\"\"\n",
    "    Update parameters using gradient descent\n",
    "    \n",
    "    Arguments:\n",
    "    parameters -- python dictionary containing your parameters \n",
    "    grads -- python dictionary containing your gradients, output of L_model_backward\n",
    "    \n",
    "    Returns:\n",
    "    parameters -- python dictionary containing your updated parameters \n",
    "                  parameters[\"W\" + str(l)] = ... \n",
    "                  parameters[\"b\" + str(l)] = ...\n",
    "    \"\"\"\n",
    "    L = len(parameters) // 2 # number of layers in the neural network\n",
    "\n",
    "    # Update rule for each parameter. Use a for loop.\n",
    "    for l in range(1, L+1):\n",
    "        parameters[\"W\" + str(l)] = parameters[\"W\" + str(l)] - np.multiply(learning_rate , grads[\"dW\"+str(l)])\n",
    "        parameters[\"b\" + str(l)] = parameters[\"b\" + str(l)] - np.multiply(learning_rate , grads[\"db\"+str(l)])\n",
    "\n",
    "    return parameters"
   ]
  },
  {
   "cell_type": "code",
   "execution_count": 238,
   "metadata": {
    "collapsed": true
   },
   "outputs": [],
   "source": [
    "# GRADED FUNCTION: update_parameters\n",
    "\n",
    "def update_parameters_SVRG(parameters, grads, grads_tilda, total_grads, learning_rate,N):\n",
    "    \"\"\"\n",
    "    Update parameters using gradient descent\n",
    "    \n",
    "    Arguments:\n",
    "    parameters -- python dictionary containing your parameters \n",
    "    grads -- python dictionary containing your gradients, output of L_model_backward\n",
    "    \n",
    "    Returns:\n",
    "    parameters -- python dictionary containing your updated parameters \n",
    "                  parameters[\"W\" + str(l)] = ... \n",
    "                  parameters[\"b\" + str(l)] = ...\n",
    "    \"\"\"\n",
    "    L = len(parameters) // 2 # number of layers in the neural network\n",
    "\n",
    "    # Update rule for each parameter. Use a for loop.\n",
    "    for l in range(1, L+1):\n",
    "        parameters[\"W\" + str(l)] = parameters[\"W\" + str(l)] - np.multiply(learning_rate , grads[\"dW\"+str(l)]-grads_tilda[\"dW\"+str(l)]+total_grads[\"dW\"+str(l)]/N)\n",
    "        parameters[\"b\" + str(l)] = parameters[\"b\" + str(l)] - np.multiply(learning_rate , grads[\"db\"+str(l)]-grads_tilda[\"db\"+str(l)]+total_grads[\"db\"+str(l)]/N)\n",
    "\n",
    "    return parameters"
   ]
  },
  {
   "cell_type": "code",
   "execution_count": 275,
   "metadata": {
    "collapsed": true
   },
   "outputs": [],
   "source": [
    "# GRADED FUNCTION: update_parameters\n",
    "\n",
    "def update_parameters_SAG(parameters,grads, SAG_grads, random_index, learning_rate):\n",
    "    \"\"\"\n",
    "    Update parameters using gradient descent\n",
    "    \n",
    "    Arguments:\n",
    "    parameters -- python dictionary containing your parameters \n",
    "    grads -- python dictionary containing your gradients, output of L_model_backward\n",
    "    \n",
    "    Returns:\n",
    "    parameters -- python dictionary containing your updated parameters \n",
    "                  parameters[\"W\" + str(l)] = ... \n",
    "                  parameters[\"b\" + str(l)] = ...\n",
    "    \"\"\"\n",
    "    L = len(parameters) // 2 # number of layers in the neural network\n",
    "\n",
    "    # Update rule for each parameter. Use a for loop.\n",
    "    for l in range(1, L+1):\n",
    "        if (l == random_index):\n",
    "            parameters[\"W\" + str(l)] = parameters[\"W\" + str(l)] - np.multiply(learning_rate , grads[\"dW\"+str(l)])\n",
    "            parameters[\"b\" + str(l)] = parameters[\"b\" + str(l)] - np.multiply(learning_rate , grads[\"db\"+str(l)])\n",
    "        else:\n",
    "            parameters[\"W\" + str(l)] = parameters[\"W\" + str(l)] - np.multiply(learning_rate , SAG_grads[l][\"dW\"+str(l)])\n",
    "            parameters[\"b\" + str(l)] = parameters[\"b\" + str(l)] - np.multiply(learning_rate , SAG_grads[l][\"db\"+str(l)])\n",
    "\n",
    "    return parameters"
   ]
  },
  {
   "cell_type": "code",
   "execution_count": 276,
   "metadata": {},
   "outputs": [
    {
     "name": "stdout",
     "output_type": "stream",
     "text": [
      "3\n"
     ]
    }
   ],
   "source": [
    "random_index = int(random.randint(1,X_train.shape[1]))\n",
    "print(random_index)"
   ]
  },
  {
   "cell_type": "code",
   "execution_count": 277,
   "metadata": {
    "collapsed": true
   },
   "outputs": [],
   "source": [
    "### CONSTANTS ###\n",
    "layers_dims = [4, 2, 2, 1] #  5-layer model"
   ]
  },
  {
   "cell_type": "code",
   "execution_count": 278,
   "metadata": {
    "collapsed": true
   },
   "outputs": [],
   "source": [
    "# GRADED FUNCTION: L_layer_model\n",
    "\n",
    "def L_layer_model(X, Y, layers_dims, learning_rate = 0.0075, num_iterations = 3000, epoch_length = 50, print_cost=False, solver=\"GD\"):#lr was 0.009\n",
    "    \"\"\"\n",
    "    Implements a L-layer neural network: [LINEAR->RELU]*(L-1)->LINEAR->SIGMOID.\n",
    "    \n",
    "    Arguments:\n",
    "    X -- data, numpy array of shape (number of examples, num_px * num_px * 3)\n",
    "    Y -- true \"label\" vector (containing 0 if cat, 1 if non-cat), of shape (1, number of examples)\n",
    "    layers_dims -- list containing the input size and each layer size, of length (number of layers + 1).\n",
    "    learning_rate -- learning rate of the gradient descent update rule\n",
    "    num_iterations -- number of iterations of the optimization loop\n",
    "    print_cost -- if True, it prints the cost every 100 steps\n",
    "    \n",
    "    Returns:\n",
    "    parameters -- parameters learnt by the model. They can then be used to predict.\n",
    "    \"\"\"\n",
    "\n",
    "    np.random.seed(1)\n",
    "    costs = []                         # keep track of cost\n",
    "    \n",
    "    # Parameters initialization.\n",
    "    parameters = initialize_parameters_deep(layers_dims)\n",
    "    parameters_tilda = initialize_parameters_deep(layers_dims)\n",
    "    SAG_grads = [dict() for x in range(X.shape[1])]\n",
    "    \n",
    "    # Loop (gradient descent)\n",
    "    if (solver == \"GD\"):\n",
    "        for i in range(0, num_iterations):\n",
    "\n",
    "            # Forward propagation: [LINEAR -> RELU]*(L-1) -> LINEAR -> SIGMOID.\n",
    "            AL, caches = L_model_forward(X, parameters)\n",
    "\n",
    "            # Compute cost.\n",
    "            cost = compute_cost(AL, Y)\n",
    "\n",
    "            # Backward propagation.\n",
    "            grads = L_model_backward(AL, Y, caches)\n",
    "\n",
    "            # Update parameters.\n",
    "            parameters = update_parameters(parameters, grads, learning_rate)\n",
    "\n",
    "\n",
    "    elif (solver == \"SGD\"):\n",
    "        for i in range(0, num_iterations):\n",
    "            random_index = int(random.randint(1,X.shape[1]-1))\n",
    "            random_sample_X = (X[:,random_index]).reshape(X.shape[0],1)\n",
    "            random_sample_Y = (Y[:,random_index]).reshape(1,1)\n",
    "            \n",
    "            # Forward propagation: [LINEAR -> RELU]*(L-1) -> LINEAR -> SIGMOID.\n",
    "            AL, caches = L_model_forward(random_sample_X, parameters)\n",
    "\n",
    "            # Compute cost.\n",
    "            cost = compute_cost(AL, random_sample_Y)\n",
    "\n",
    "            # Backward propagation.\n",
    "            grads = L_model_backward(AL, random_sample_Y, caches)\n",
    "\n",
    "            # Update parameters.\n",
    "            parameters = update_parameters(parameters, grads, learning_rate)\n",
    "\n",
    "\n",
    "        \n",
    "    elif (solver == \"SVRG\"):\n",
    "        for i in range(0, num_iterations):\n",
    "            # Forward propagation: [LINEAR -> RELU]*(L-1) -> LINEAR -> SIGMOID.\n",
    "            AL, caches = L_model_forward(X, parameters_tilda)\n",
    "\n",
    "            # Compute cost.\n",
    "            cost = compute_cost(AL, Y)\n",
    "\n",
    "            # Backward propagation. Tilda gradian f\n",
    "            total_grads = L_model_backward(AL, Y, caches)\n",
    "            \n",
    "            for j in range(0,epoch_length):\n",
    "                random_index = int(random.randint(1,X.shape[1]-1))\n",
    "                random_sample_X = (X[:,random_index]).reshape(X.shape[0],1)\n",
    "                random_sample_Y = (Y[:,random_index]).reshape(1,1)\n",
    "\n",
    "                # Forward propagation: [LINEAR -> RELU]*(L-1) -> LINEAR -> SIGMOID.\n",
    "                AL, caches = L_model_forward(random_sample_X, parameters)\n",
    "\n",
    "                # Compute cost.\n",
    "                cost = compute_cost(AL, random_sample_Y)\n",
    "\n",
    "                # Backward propagation.\n",
    "                grads = L_model_backward(AL, random_sample_Y, caches)\n",
    "                \n",
    "                # Forward propagation: [LINEAR -> RELU]*(L-1) -> LINEAR -> SIGMOID.\n",
    "                AL_tilda, caches_tilda = L_model_forward(random_sample_X, parameters_tilda)\n",
    "\n",
    "                # Compute cost.\n",
    "                cost_tilda = compute_cost(AL_tilda, random_sample_Y)\n",
    "\n",
    "                # Backward propagation.\n",
    "                grads_tilda = L_model_backward(AL_tilda, random_sample_Y, caches_tilda)\n",
    "\n",
    "                # Update parameters.\n",
    "                parameters = update_parameters_SVRG(parameters, grads, grads_tilda, total_grads, learning_rate,X.shape[1])\n",
    "            \n",
    "            parameters_tilda = parameters\n",
    "            \n",
    "    elif (solver == \"SAG\"):\n",
    "        #Computing all gradients for all samples\n",
    "        for i in range(X.shape[1]):\n",
    "            \n",
    "            sample_X = (X[:,i]).reshape(X.shape[0],1)\n",
    "            sample_Y = (Y[:,i]).reshape(1,1)\n",
    "\n",
    "            # Forward propagation: [LINEAR -> RELU]*(L-1) -> LINEAR -> SIGMOID.\n",
    "            AL, caches = L_model_forward(sample_X, parameters)\n",
    "\n",
    "            # Compute cost.\n",
    "            cost = compute_cost(AL, sample_Y)\n",
    "\n",
    "            # Backward propagation.\n",
    "            grads = L_model_backward(AL, sample_Y, caches)\n",
    "            SAG_grads[i] = grads\n",
    "        \n",
    "        \n",
    "        \n",
    "        for j in range(0,epoch_length):\n",
    "            random_index = int(random.randint(1,X.shape[1]-1))\n",
    "            random_sample_X = (X[:,random_index]).reshape(X.shape[0],1)\n",
    "            random_sample_Y = (Y[:,random_index]).reshape(1,1)\n",
    "\n",
    "            # Forward propagation: [LINEAR -> RELU]*(L-1) -> LINEAR -> SIGMOID.\n",
    "            AL, caches = L_model_forward(random_sample_X, parameters)\n",
    "\n",
    "            # Compute cost.\n",
    "            cost = compute_cost(AL, random_sample_Y)\n",
    "            grads = L_model_backward(AL, sample_Y, caches)\n",
    "            \n",
    "            # Update parameters.\n",
    "            parameters = update_parameters_SAG(parameters, grads, SAG_grads, random_index, learning_rate)\n",
    "\n",
    "    \n",
    "    return parameters"
   ]
  },
  {
   "cell_type": "code",
   "execution_count": 279,
   "metadata": {
    "collapsed": true,
    "scrolled": true
   },
   "outputs": [],
   "source": [
    "parameters = L_layer_model(X_train.T, np.array(Y_train).T, layers_dims, solver = \"SAG\", learning_rate = 0.001, num_iterations = 500, print_cost = True)"
   ]
  },
  {
   "cell_type": "code",
   "execution_count": 280,
   "metadata": {
    "collapsed": true
   },
   "outputs": [],
   "source": [
    "# GRADED FUNCTION: predict\n",
    "\n",
    "def predict(parameters, X):\n",
    "    \"\"\"\n",
    "    Using the learned parameters, predicts a class for each example in X\n",
    "    \n",
    "    Arguments:\n",
    "    parameters -- python dictionary containing your parameters \n",
    "    X -- input data of size (n_x, m)\n",
    "    \n",
    "    Returns\n",
    "    predictions -- vector of predictions of our model (red: 0 / blue: 1)\n",
    "    \"\"\"\n",
    "    \n",
    "    A2, cache = L_model_forward(X,parameters)\n",
    "    predictions = A2 \n",
    "    \n",
    "    return predictions"
   ]
  },
  {
   "cell_type": "code",
   "execution_count": 281,
   "metadata": {},
   "outputs": [
    {
     "name": "stdout",
     "output_type": "stream",
     "text": [
      "(1, 1080)\n"
     ]
    }
   ],
   "source": [
    "test_predicted_values = predict(parameters, X_test.T)\n",
    "train_predicted_values = predict(parameters, X_train.T)\n",
    "print(test_predicted_values.shape)"
   ]
  },
  {
   "cell_type": "code",
   "execution_count": 282,
   "metadata": {},
   "outputs": [
    {
     "name": "stdout",
     "output_type": "stream",
     "text": [
      "The test NMAE is 1.01\n",
      "The train NMAE is 1.02\n",
      "The naive NMAE is 1.53\n"
     ]
    }
   ],
   "source": [
    "test_nmae = nmae(Y_test,test_predicted_values.T)\n",
    "train_nmae = nmae(Y_train,train_predicted_values.T)\n",
    "naive_values = np.full((Y_train.shape[0],1),naive_estimator)\n",
    "naive_nmae = nmae(Y_train,naive_values)\n",
    "print(\"The test NMAE is %.2f\" %test_nmae)\n",
    "print(\"The train NMAE is %.2f\" %train_nmae)\n",
    "print(\"The naive NMAE is %.2f\" %naive_nmae)"
   ]
  },
  {
   "cell_type": "markdown",
   "metadata": {},
   "source": [
    "### 3.2 Comparing different models\n",
    "\n",
    "In this part we will run our model and compare them based on training time and accuracy.\n",
    "\n",
    "#### 3.2.1 Gradient Descent (GD)"
   ]
  },
  {
   "cell_type": "code",
   "execution_count": 287,
   "metadata": {},
   "outputs": [
    {
     "name": "stdout",
     "output_type": "stream",
     "text": [
      "Training time is 0.13\n"
     ]
    }
   ],
   "source": [
    "import time\n",
    "start = time.time()\n",
    "parameters = L_layer_model(X_train.T, np.array(Y_train).T, layers_dims, solver = \"GD\", learning_rate = 0.001, num_iterations = 500, print_cost = True)\n",
    "end = time.time()\n",
    "\n",
    "train_time = end - start \n",
    "print(\"Training time is %.2f\" %train_time)"
   ]
  },
  {
   "cell_type": "code",
   "execution_count": 288,
   "metadata": {
    "collapsed": true
   },
   "outputs": [],
   "source": [
    "# GRADED FUNCTION: predict\n",
    "\n",
    "def predict(parameters, X):\n",
    "    \"\"\"\n",
    "    Using the learned parameters, predicts a class for each example in X\n",
    "    \n",
    "    Arguments:\n",
    "    parameters -- python dictionary containing your parameters \n",
    "    X -- input data of size (n_x, m)\n",
    "    \n",
    "    Returns\n",
    "    predictions -- vector of predictions of our model (red: 0 / blue: 1)\n",
    "    \"\"\"\n",
    "    \n",
    "    A2, cache = L_model_forward(X,parameters)\n",
    "    predictions = A2 \n",
    "\n",
    "    \n",
    "    return predictions"
   ]
  },
  {
   "cell_type": "code",
   "execution_count": 289,
   "metadata": {},
   "outputs": [
    {
     "name": "stdout",
     "output_type": "stream",
     "text": [
      "(1, 1080)\n"
     ]
    }
   ],
   "source": [
    "test_predicted_values = predict(parameters, X_test.T)\n",
    "train_predicted_values = predict(parameters, X_train.T)\n",
    "print(test_predicted_values.shape)"
   ]
  },
  {
   "cell_type": "code",
   "execution_count": 290,
   "metadata": {},
   "outputs": [
    {
     "name": "stdout",
     "output_type": "stream",
     "text": [
      "The test NMAE is 1.24\n",
      "The train NMAE is 1.26\n",
      "The naive NMAE is 1.53\n"
     ]
    }
   ],
   "source": [
    "test_nmae = nmae(Y_test,test_predicted_values.T)\n",
    "train_nmae = nmae(Y_train,train_predicted_values.T)\n",
    "naive_values = np.full((Y_train.shape[0],1),naive_estimator)\n",
    "naive_nmae = nmae(Y_train,naive_values)\n",
    "print(\"The test NMAE is %.2f\" %test_nmae)\n",
    "print(\"The train NMAE is %.2f\" %train_nmae)\n",
    "print(\"The naive NMAE is %.2f\" %naive_nmae)"
   ]
  },
  {
   "cell_type": "markdown",
   "metadata": {},
   "source": [
    "#### 3.2.2 Stochastic Gradient Descent (SGD)"
   ]
  },
  {
   "cell_type": "code",
   "execution_count": 291,
   "metadata": {},
   "outputs": [
    {
     "name": "stdout",
     "output_type": "stream",
     "text": [
      "Training time is 0.06\n"
     ]
    }
   ],
   "source": [
    "import time\n",
    "start = time.time()\n",
    "parameters = L_layer_model(X_train.T, np.array(Y_train).T, layers_dims, solver = \"SGD\", learning_rate = 0.001, num_iterations = 500, print_cost = True)\n",
    "end = time.time()\n",
    "\n",
    "train_time = end - start \n",
    "print(\"Training time is %.2f\" %train_time)"
   ]
  },
  {
   "cell_type": "code",
   "execution_count": 292,
   "metadata": {
    "collapsed": true
   },
   "outputs": [],
   "source": [
    "# GRADED FUNCTION: predict\n",
    "\n",
    "def predict(parameters, X):\n",
    "    \"\"\"\n",
    "    Using the learned parameters, predicts a class for each example in X\n",
    "    \n",
    "    Arguments:\n",
    "    parameters -- python dictionary containing your parameters \n",
    "    X -- input data of size (n_x, m)\n",
    "    \n",
    "    Returns\n",
    "    predictions -- vector of predictions of our model (red: 0 / blue: 1)\n",
    "    \"\"\"\n",
    "    \n",
    "    A2, cache = L_model_forward(X,parameters)\n",
    "    predictions = A2 \n",
    "    \n",
    "    return predictions"
   ]
  },
  {
   "cell_type": "code",
   "execution_count": 293,
   "metadata": {},
   "outputs": [
    {
     "name": "stdout",
     "output_type": "stream",
     "text": [
      "(1, 1080)\n"
     ]
    }
   ],
   "source": [
    "test_predicted_values = predict(parameters, X_test.T)\n",
    "train_predicted_values = predict(parameters, X_train.T)\n",
    "print(test_predicted_values.shape)"
   ]
  },
  {
   "cell_type": "code",
   "execution_count": 294,
   "metadata": {},
   "outputs": [
    {
     "name": "stdout",
     "output_type": "stream",
     "text": [
      "The test NMAE is 1.24\n",
      "The train NMAE is 1.26\n",
      "The naive NMAE is 1.53\n"
     ]
    }
   ],
   "source": [
    "test_nmae = nmae(Y_test,test_predicted_values.T)\n",
    "train_nmae = nmae(Y_train,train_predicted_values.T)\n",
    "naive_values = np.full((Y_train.shape[0],1),naive_estimator)\n",
    "naive_nmae = nmae(Y_train,naive_values)\n",
    "print(\"The test NMAE is %.2f\" %test_nmae)\n",
    "print(\"The train NMAE is %.2f\" %train_nmae)\n",
    "print(\"The naive NMAE is %.2f\" %naive_nmae)"
   ]
  },
  {
   "cell_type": "markdown",
   "metadata": {},
   "source": [
    "#### 3.2.3 Stochastic variance reduced gradient (SVRG)"
   ]
  },
  {
   "cell_type": "code",
   "execution_count": 295,
   "metadata": {},
   "outputs": [
    {
     "name": "stdout",
     "output_type": "stream",
     "text": [
      "Training time is 5.67\n"
     ]
    }
   ],
   "source": [
    "import time\n",
    "start = time.time()\n",
    "parameters = L_layer_model(X_train.T, np.array(Y_train).T, layers_dims, solver = \"SVRG\", learning_rate = 0.001, num_iterations = 500, print_cost = True)\n",
    "end = time.time()\n",
    "\n",
    "train_time = end - start \n",
    "print(\"Training time is %.2f\" %train_time)"
   ]
  },
  {
   "cell_type": "code",
   "execution_count": 296,
   "metadata": {
    "collapsed": true
   },
   "outputs": [],
   "source": [
    "# GRADED FUNCTION: predict\n",
    "\n",
    "def predict(parameters, X):\n",
    "    \"\"\"\n",
    "    Using the learned parameters, predicts a class for each example in X\n",
    "    \n",
    "    Arguments:\n",
    "    parameters -- python dictionary containing your parameters \n",
    "    X -- input data of size (n_x, m)\n",
    "    \n",
    "    Returns\n",
    "    predictions -- vector of predictions of our model (red: 0 / blue: 1)\n",
    "    \"\"\"\n",
    "    \n",
    "    A2, cache = L_model_forward(X,parameters)\n",
    "    predictions = A2 \n",
    "    \n",
    "    return predictions"
   ]
  },
  {
   "cell_type": "code",
   "execution_count": 297,
   "metadata": {},
   "outputs": [
    {
     "name": "stdout",
     "output_type": "stream",
     "text": [
      "(1, 1080)\n"
     ]
    }
   ],
   "source": [
    "test_predicted_values = predict(parameters, X_test.T)\n",
    "train_predicted_values = predict(parameters, X_train.T)\n",
    "print(test_predicted_values.shape)"
   ]
  },
  {
   "cell_type": "code",
   "execution_count": 298,
   "metadata": {},
   "outputs": [
    {
     "name": "stdout",
     "output_type": "stream",
     "text": [
      "The test NMAE is 1.01\n",
      "The train NMAE is 1.01\n",
      "The naive NMAE is 1.53\n"
     ]
    }
   ],
   "source": [
    "test_nmae = nmae(Y_test,test_predicted_values.T)\n",
    "train_nmae = nmae(Y_train,train_predicted_values.T)\n",
    "naive_values = np.full((Y_train.shape[0],1),naive_estimator)\n",
    "naive_nmae = nmae(Y_train,naive_values)\n",
    "print(\"The test NMAE is %.2f\" %test_nmae)\n",
    "print(\"The train NMAE is %.2f\" %train_nmae)\n",
    "print(\"The naive NMAE is %.2f\" %naive_nmae)"
   ]
  },
  {
   "cell_type": "markdown",
   "metadata": {},
   "source": [
    "#### 3.2.4 Stochastic average gradient (SAG)"
   ]
  },
  {
   "cell_type": "code",
   "execution_count": 300,
   "metadata": {},
   "outputs": [
    {
     "name": "stdout",
     "output_type": "stream",
     "text": [
      "Training time is 0.25\n"
     ]
    }
   ],
   "source": [
    "import time\n",
    "start = time.time()\n",
    "parameters = L_layer_model(X_train.T, np.array(Y_train).T, layers_dims, solver = \"SAG\", learning_rate = 0.001, num_iterations = 500, print_cost = True)\n",
    "end = time.time()\n",
    "\n",
    "train_time = end - start \n",
    "print(\"Training time is %.2f\" %train_time)"
   ]
  },
  {
   "cell_type": "code",
   "execution_count": 301,
   "metadata": {
    "collapsed": true
   },
   "outputs": [],
   "source": [
    "# GRADED FUNCTION: predict\n",
    "\n",
    "def predict(parameters, X):\n",
    "    \"\"\"\n",
    "    Using the learned parameters, predicts a class for each example in X\n",
    "    \n",
    "    Arguments:\n",
    "    parameters -- python dictionary containing your parameters \n",
    "    X -- input data of size (n_x, m)\n",
    "    \n",
    "    Returns\n",
    "    predictions -- vector of predictions of our model (red: 0 / blue: 1)\n",
    "    \"\"\"\n",
    "    \n",
    "    A2, cache = L_model_forward(X,parameters)\n",
    "    predictions = A2 \n",
    "    \n",
    "    return predictions"
   ]
  },
  {
   "cell_type": "code",
   "execution_count": 302,
   "metadata": {},
   "outputs": [
    {
     "name": "stdout",
     "output_type": "stream",
     "text": [
      "(1, 1080)\n"
     ]
    }
   ],
   "source": [
    "test_predicted_values = predict(parameters, X_test.T)\n",
    "train_predicted_values = predict(parameters, X_train.T)\n",
    "print(test_predicted_values.shape)"
   ]
  },
  {
   "cell_type": "code",
   "execution_count": 303,
   "metadata": {},
   "outputs": [
    {
     "name": "stdout",
     "output_type": "stream",
     "text": [
      "The test NMAE is 1.01\n",
      "The train NMAE is 1.02\n",
      "The naive NMAE is 1.53\n"
     ]
    }
   ],
   "source": [
    "test_nmae = nmae(Y_test,test_predicted_values.T)\n",
    "train_nmae = nmae(Y_train,train_predicted_values.T)\n",
    "naive_values = np.full((Y_train.shape[0],1),naive_estimator)\n",
    "naive_nmae = nmae(Y_train,naive_values)\n",
    "print(\"The test NMAE is %.2f\" %test_nmae)\n",
    "print(\"The train NMAE is %.2f\" %train_nmae)\n",
    "print(\"The naive NMAE is %.2f\" %naive_nmae)"
   ]
  },
  {
   "cell_type": "markdown",
   "metadata": {},
   "source": [
    "# Discussion\n",
    "\n",
    "If we compare methods and the results, we can see that the most accurate algorithm with specified architecture for neural network, fixed numbr of epochs and learning rate, is SVRG the next accurate is SAG and GD and last one is SGD. If compare training time we can see that the fastest algorithm is SGD the second one is GD, and the next one is SAG and last one is SVRG.\n",
    "\n",
    "We have to notice that all these results are primary results and we need to tune every thing to get good results. As we know there are different parameters here that we can tunel like the architecture, optimizer paramters (learning rate, epochs, epoch length for SVRG and so on). To tune the parameters very similar to task two we can specify the space of hyper-paramters and select points in this space, then define models with the hyper-parameters and train the models. We select the models with lowest error or highest accuracy of our metric (here we chose NMAE). And we can continue to select best paramters.  "
   ]
  },
  {
   "cell_type": "code",
   "execution_count": null,
   "metadata": {
    "collapsed": true
   },
   "outputs": [],
   "source": []
  }
 ],
 "metadata": {
  "kernelspec": {
   "display_name": "Python 3",
   "language": "python",
   "name": "python3"
  },
  "language_info": {
   "codemirror_mode": {
    "name": "ipython",
    "version": 2
   },
   "file_extension": ".py",
   "mimetype": "text/x-python",
   "name": "python",
   "nbconvert_exporter": "python",
   "pygments_lexer": "ipython2",
   "version": "2.7.12"
  }
 },
 "nbformat": 4,
 "nbformat_minor": 2
}
